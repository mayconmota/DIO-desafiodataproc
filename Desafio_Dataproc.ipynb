{
  "nbformat": 4,
  "nbformat_minor": 0,
  "metadata": {
    "colab": {
      "name": "Desafio Dataproc.ipynb",
      "provenance": [],
      "collapsed_sections": [],
      "mount_file_id": "1syP1cP3W-x2WjjDIxL3lVl8ZpG0lL49d",
      "authorship_tag": "ABX9TyMehfMMkSszdvuWE1ElRIC2",
      "include_colab_link": true
    },
    "kernelspec": {
      "display_name": "Python 3",
      "name": "python3"
    },
    "language_info": {
      "name": "python"
    }
  },
  "cells": [
    {
      "cell_type": "markdown",
      "metadata": {
        "id": "view-in-github",
        "colab_type": "text"
      },
      "source": [
        "<a href=\"https://colab.research.google.com/github/mayconmota/desafiodataproc/blob/main/Desafio_Dataproc.ipynb\" target=\"_parent\"><img src=\"https://colab.research.google.com/assets/colab-badge.svg\" alt=\"Open In Colab\"/></a>"
      ]
    },
    {
      "cell_type": "markdown",
      "metadata": {
        "id": "oRNY5g4jVxsL"
      },
      "source": [
        "**Desafio Dataproc**"
      ]
    },
    {
      "cell_type": "code",
      "metadata": {
        "id": "qILx6qshVfAe"
      },
      "source": [
        "#Importando a biblioteca pandas\n",
        "import pandas as pd"
      ],
      "execution_count": 1,
      "outputs": []
    },
    {
      "cell_type": "code",
      "metadata": {
        "id": "L1NLixbHV8RN"
      },
      "source": [
        "#Leitura dos arquivos, e atribuição à variável de armazenamento\n",
        "df = pd.read_fwf('resultado_part-00000.txt')"
      ],
      "execution_count": 15,
      "outputs": []
    },
    {
      "cell_type": "code",
      "metadata": {
        "id": "v6_00o3Nw_dx"
      },
      "source": [
        "#Armazendando as top 10 palavras mais citadas no livro, em um novo dataframe\n",
        "df_top10 = df[:10]"
      ],
      "execution_count": 17,
      "outputs": []
    },
    {
      "cell_type": "code",
      "metadata": {
        "colab": {
          "base_uri": "https://localhost:8080/",
          "height": 355
        },
        "id": "W_Q5Kk79P_ME",
        "outputId": "35cabf75-0ffa-4cfb-8030-4657146a4d66"
      },
      "source": [
        "#Exibindo as top 10 palavras mais citadas no livro\n",
        "df_top10"
      ],
      "execution_count": 18,
      "outputs": [
        {
          "output_type": "execute_result",
          "data": {
            "text/html": [
              "<div>\n",
              "<style scoped>\n",
              "    .dataframe tbody tr th:only-of-type {\n",
              "        vertical-align: middle;\n",
              "    }\n",
              "\n",
              "    .dataframe tbody tr th {\n",
              "        vertical-align: top;\n",
              "    }\n",
              "\n",
              "    .dataframe thead th {\n",
              "        text-align: right;\n",
              "    }\n",
              "</style>\n",
              "<table border=\"1\" class=\"dataframe\">\n",
              "  <thead>\n",
              "    <tr style=\"text-align: right;\">\n",
              "      <th></th>\n",
              "      <th>Quantitativo_das_palavras</th>\n",
              "    </tr>\n",
              "  </thead>\n",
              "  <tbody>\n",
              "    <tr>\n",
              "      <th>0</th>\n",
              "      <td>('the', 4066)</td>\n",
              "    </tr>\n",
              "    <tr>\n",
              "      <th>1</th>\n",
              "      <td>('and', 2969)</td>\n",
              "    </tr>\n",
              "    <tr>\n",
              "      <th>2</th>\n",
              "      <td>('of', 2746)</td>\n",
              "    </tr>\n",
              "    <tr>\n",
              "      <th>3</th>\n",
              "      <td>('I', 2719)</td>\n",
              "    </tr>\n",
              "    <tr>\n",
              "      <th>4</th>\n",
              "      <td>('to', 2144)</td>\n",
              "    </tr>\n",
              "    <tr>\n",
              "      <th>5</th>\n",
              "      <td>('my', 1631)</td>\n",
              "    </tr>\n",
              "    <tr>\n",
              "      <th>6</th>\n",
              "      <td>('a', 1394)</td>\n",
              "    </tr>\n",
              "    <tr>\n",
              "      <th>7</th>\n",
              "      <td>('', 1186)</td>\n",
              "    </tr>\n",
              "    <tr>\n",
              "      <th>8</th>\n",
              "      <td>('in', 1129)</td>\n",
              "    </tr>\n",
              "    <tr>\n",
              "      <th>9</th>\n",
              "      <td>('was', 994)</td>\n",
              "    </tr>\n",
              "  </tbody>\n",
              "</table>\n",
              "</div>"
            ],
            "text/plain": [
              "  Quantitativo_das_palavras\n",
              "0             ('the', 4066)\n",
              "1             ('and', 2969)\n",
              "2              ('of', 2746)\n",
              "3               ('I', 2719)\n",
              "4              ('to', 2144)\n",
              "5              ('my', 1631)\n",
              "6               ('a', 1394)\n",
              "7                ('', 1186)\n",
              "8              ('in', 1129)\n",
              "9              ('was', 994)"
            ]
          },
          "metadata": {},
          "execution_count": 18
        }
      ]
    },
    {
      "cell_type": "code",
      "metadata": {
        "id": "5laofkqcQCdf"
      },
      "source": [
        "#Exportando o trabalho final para um novo arquivo, neste caso \"resultado.txt\"\n",
        "df_top10.to_csv(\"resultado.txt\", index=False)"
      ],
      "execution_count": 21,
      "outputs": []
    }
  ]
}